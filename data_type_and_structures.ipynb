{
  "nbformat": 4,
  "nbformat_minor": 0,
  "metadata": {
    "colab": {
      "provenance": []
    },
    "kernelspec": {
      "name": "python3",
      "display_name": "Python 3"
    },
    "language_info": {
      "name": "python"
    }
  },
  "cells": [
    {
      "cell_type": "code",
      "execution_count": 5,
      "metadata": {
        "colab": {
          "base_uri": "https://localhost:8080/"
        },
        "id": "rElApmqCjcdD",
        "outputId": "02ca34d2-1110-49cb-e96d-32aa5f61f5a3"
      },
      "outputs": [
        {
          "name": "stdout",
          "output_type": "stream",
          "text": [
            "My name is: anmol kumar tanwar\n"
          ]
        }
      ],
      "source": [
        "#1 write a code to create a string with your name and print it.\n",
        "\n",
        "name = input(\"My name is: \")"
      ]
    },
    {
      "cell_type": "code",
      "source": [
        "#2 write a code to create a string with your name and print it.\n",
        "\n",
        "string = \"hello world\"\n",
        "length = len(string)"
      ],
      "metadata": {
        "id": "zie3sz1okLBT"
      },
      "execution_count": 7,
      "outputs": []
    },
    {
      "cell_type": "code",
      "source": [
        "#3 write a code to slice the first 3 character from the string \"python programming\".\n",
        "text = \"python programming\"\n",
        "first_three = text[:3]\n",
        "print(\"The first three characters are:\", first_three)"
      ],
      "metadata": {
        "colab": {
          "base_uri": "https://localhost:8080/"
        },
        "id": "wkrRTustlH8t",
        "outputId": "c535fe30-eb0f-4941-de7f-4b08dedf64c4"
      },
      "execution_count": 9,
      "outputs": [
        {
          "output_type": "stream",
          "name": "stdout",
          "text": [
            "The first three characters are: pyt\n"
          ]
        }
      ]
    },
    {
      "cell_type": "code",
      "source": [
        "#4 write a code to convert the string \"hello\" to upper case.\n",
        "text = \"hello\"\n",
        "upper_text = text.upper()\n",
        "print(\"Uppercase:\", upper_text)"
      ],
      "metadata": {
        "colab": {
          "base_uri": "https://localhost:8080/"
        },
        "id": "7hEZvDCHmNdV",
        "outputId": "325ebd02-69e5-41ef-a624-1726b22b5c14"
      },
      "execution_count": 12,
      "outputs": [
        {
          "output_type": "stream",
          "name": "stdout",
          "text": [
            "Uppercase: HELLO\n"
          ]
        }
      ]
    },
    {
      "cell_type": "code",
      "source": [
        "#5 write a code to replace the word apple with orange in the string i like apple\n",
        "text2 = \"I like apple\"\n",
        "new_text = text2.replace(\"apple\", \"orange\")\n",
        "print(\"Updated text2:\", new_text)"
      ],
      "metadata": {
        "colab": {
          "base_uri": "https://localhost:8080/"
        },
        "id": "e8h0s2fCnLth",
        "outputId": "6c592c07-89c2-4a95-91ef-7fd806cc1dba"
      },
      "execution_count": 15,
      "outputs": [
        {
          "output_type": "stream",
          "name": "stdout",
          "text": [
            "Updated text2: I like orange\n"
          ]
        }
      ]
    },
    {
      "cell_type": "code",
      "source": [
        "#6 write a code to create a list with numbers 1 to 5 and print it\n",
        "numbers = [1, 2, 3, 4, 5]\n",
        "print(\"The list is:\", numbers)"
      ],
      "metadata": {
        "colab": {
          "base_uri": "https://localhost:8080/"
        },
        "id": "r1ngFsdbodDg",
        "outputId": "903b1769-ec2c-475e-d4fd-a05f849ea239"
      },
      "execution_count": 17,
      "outputs": [
        {
          "output_type": "stream",
          "name": "stdout",
          "text": [
            "The list is: [1, 2, 3, 4, 5]\n"
          ]
        }
      ]
    },
    {
      "cell_type": "code",
      "source": [
        "#7 write a code to append the the number 10 in the list\n",
        "numbers.append(10)\n",
        "print(\"Updated list:\", numbers)"
      ],
      "metadata": {
        "colab": {
          "base_uri": "https://localhost:8080/"
        },
        "id": "hQRYUay_pdbO",
        "outputId": "a562eeed-6557-467e-dd1e-1efda1fc901b"
      },
      "execution_count": 28,
      "outputs": [
        {
          "output_type": "stream",
          "name": "stdout",
          "text": [
            "Updated list: [1, 2, 3, 4, 5, 10]\n"
          ]
        }
      ]
    },
    {
      "cell_type": "code",
      "source": [
        "#8\n",
        "numbers.remove(3)\n",
        "print(\"Updated list:\", numbers)"
      ],
      "metadata": {
        "colab": {
          "base_uri": "https://localhost:8080/"
        },
        "id": "LklTXSrsqHP_",
        "outputId": "245281e2-455c-4a2a-9e7f-54a9b61600b3"
      },
      "execution_count": 29,
      "outputs": [
        {
          "output_type": "stream",
          "name": "stdout",
          "text": [
            "Updated list: [1, 2, 4, 5, 10]\n"
          ]
        }
      ]
    },
    {
      "cell_type": "code",
      "source": [
        "#9\n",
        "letters = ['a', 'b', 'c', 'd']\n",
        "letters[1]"
      ],
      "metadata": {
        "colab": {
          "base_uri": "https://localhost:8080/",
          "height": 35
        },
        "id": "NmH_muqQqXVw",
        "outputId": "20799379-edf6-4533-d115-c18396e0d570"
      },
      "execution_count": 30,
      "outputs": [
        {
          "output_type": "execute_result",
          "data": {
            "text/plain": [
              "'b'"
            ],
            "application/vnd.google.colaboratory.intrinsic+json": {
              "type": "string"
            }
          },
          "metadata": {},
          "execution_count": 30
        }
      ]
    },
    {
      "cell_type": "code",
      "source": [
        "#10\n",
        "numbers_2 = [10, 20, 30, 40, 50]\n",
        "numbers_2.reverse()\n",
        "print(\"Reversed list:\", numbers_2)"
      ],
      "metadata": {
        "colab": {
          "base_uri": "https://localhost:8080/"
        },
        "id": "xUgcIcl7qu-F",
        "outputId": "a5d173ac-d0a8-4e76-cdad-141e42033a2a"
      },
      "execution_count": 31,
      "outputs": [
        {
          "output_type": "stream",
          "name": "stdout",
          "text": [
            "Reversed list: [50, 40, 30, 20, 10]\n"
          ]
        }
      ]
    },
    {
      "cell_type": "code",
      "source": [
        "#11\n",
        "my_tuple = (100, 200, 300)\n",
        "print(my_tuple)"
      ],
      "metadata": {
        "colab": {
          "base_uri": "https://localhost:8080/"
        },
        "id": "OaSBngposWou",
        "outputId": "c3985654-9433-4b1b-8121-2ed2034c035b"
      },
      "execution_count": 32,
      "outputs": [
        {
          "output_type": "stream",
          "name": "stdout",
          "text": [
            "(100, 200, 300)\n"
          ]
        }
      ]
    },
    {
      "cell_type": "code",
      "source": [
        "#12 tpl_colors = ('red', 'green', 'blue', 'yellow')\n",
        "second_to_last = tpl_colors[-2]\n",
        "print(\"Second to last element:\", second_to_last)"
      ],
      "metadata": {
        "colab": {
          "base_uri": "https://localhost:8080/"
        },
        "id": "VP_xXtfgsycF",
        "outputId": "ffde662b-6ace-425e-e29a-cfc9f23c6767"
      },
      "execution_count": 33,
      "outputs": [
        {
          "output_type": "stream",
          "name": "stdout",
          "text": [
            "Second to last element: blue\n"
          ]
        }
      ]
    },
    {
      "cell_type": "code",
      "source": [
        "#13\n",
        "numbers2 = (10, 20, 5, 15)\n",
        "min_number = min(numbers2)\n",
        "print(\"The minimum number is:\", min_number)"
      ],
      "metadata": {
        "colab": {
          "base_uri": "https://localhost:8080/"
        },
        "id": "52Sh61TatzDJ",
        "outputId": "5a9a48df-6ed3-4d8f-af45-26f7b906e906"
      },
      "execution_count": 35,
      "outputs": [
        {
          "output_type": "stream",
          "name": "stdout",
          "text": [
            "The minimum number is: 5\n"
          ]
        }
      ]
    },
    {
      "cell_type": "code",
      "source": [
        "#14\n",
        "animals = ('dog', 'cat', 'rabbit')\n",
        "index_cat = animals.index('cat')\n",
        "print(\"The index of 'cat' is:\", index_cat)"
      ],
      "metadata": {
        "colab": {
          "base_uri": "https://localhost:8080/"
        },
        "id": "kFj-s4uBuXLM",
        "outputId": "a7ae6928-2e88-4fde-85ea-96837f404f78"
      },
      "execution_count": 36,
      "outputs": [
        {
          "output_type": "stream",
          "name": "stdout",
          "text": [
            "The index of 'cat' is: 1\n"
          ]
        }
      ]
    },
    {
      "cell_type": "code",
      "source": [
        "#15\n",
        "fruits = ('apple', 'banana', 'orange')\n",
        "is_kiwi_present = 'kiwi' in fruits\n",
        "print(\"Is 'kiwi' in the tuple?\", is_kiwi_present)"
      ],
      "metadata": {
        "colab": {
          "base_uri": "https://localhost:8080/"
        },
        "id": "a3I9qrVXvofk",
        "outputId": "26b36df3-8e79-43aa-b98b-f4e745ed4303"
      },
      "execution_count": 37,
      "outputs": [
        {
          "output_type": "stream",
          "name": "stdout",
          "text": [
            "Is 'kiwi' in the tuple? False\n"
          ]
        }
      ]
    },
    {
      "cell_type": "code",
      "source": [
        "#16\n",
        "my_set = {'a', 'b', 'c'}\n",
        "print(\"The set is:\", my_set)"
      ],
      "metadata": {
        "colab": {
          "base_uri": "https://localhost:8080/"
        },
        "id": "ZWMxIbuEwEtS",
        "outputId": "268bc653-fac5-40ff-bb66-03490883d796"
      },
      "execution_count": 38,
      "outputs": [
        {
          "output_type": "stream",
          "name": "stdout",
          "text": [
            "The set is: {'b', 'a', 'c'}\n"
          ]
        }
      ]
    },
    {
      "cell_type": "code",
      "source": [
        "#17\n",
        "numbers4 = {1, 2, 3, 4, 5}\n",
        "numbers4.clear()\n",
        "print(numbers4)"
      ],
      "metadata": {
        "colab": {
          "base_uri": "https://localhost:8080/"
        },
        "id": "at1RXYsYwiD8",
        "outputId": "f8e5f184-9f24-41b0-fd1a-35f9f8763560"
      },
      "execution_count": 41,
      "outputs": [
        {
          "output_type": "stream",
          "name": "stdout",
          "text": [
            "set()\n"
          ]
        }
      ]
    },
    {
      "cell_type": "code",
      "source": [
        "#18\n",
        "numbers5 = {1, 2, 3, 4,}\n",
        "numbers5.remove(4)\n",
        "print(numbers5)"
      ],
      "metadata": {
        "colab": {
          "base_uri": "https://localhost:8080/"
        },
        "id": "0BCHyGMExYrp",
        "outputId": "a5bbbb96-b6ef-41e6-b389-840b6bdc9a0f"
      },
      "execution_count": 42,
      "outputs": [
        {
          "output_type": "stream",
          "name": "stdout",
          "text": [
            "{1, 2, 3}\n"
          ]
        }
      ]
    },
    {
      "cell_type": "code",
      "source": [
        "#19\n",
        "s1 = {1, 2, 3}\n",
        "s2 = {4, 5, 6}\n",
        "union_set = s1.union(s2)\n",
        "print(union_set)"
      ],
      "metadata": {
        "colab": {
          "base_uri": "https://localhost:8080/"
        },
        "id": "jxIlKS5_xgCa",
        "outputId": "fa2bc997-b947-4a07-b4fa-978d52afb54a"
      },
      "execution_count": 44,
      "outputs": [
        {
          "output_type": "stream",
          "name": "stdout",
          "text": [
            "{1, 2, 3, 4, 5, 6}\n"
          ]
        }
      ]
    },
    {
      "cell_type": "code",
      "source": [
        "#20\n",
        "s3 = {1, 2, 3}\n",
        "s4 = {2, 3, 4}\n",
        "intersection_set = s3.intersection(s4)\n",
        "print(intersection_set)"
      ],
      "metadata": {
        "colab": {
          "base_uri": "https://localhost:8080/"
        },
        "id": "VznD1XgAyrUA",
        "outputId": "ad5473a6-00fc-4bfd-d0b3-7070cebafa44"
      },
      "execution_count": 48,
      "outputs": [
        {
          "output_type": "stream",
          "name": "stdout",
          "text": [
            "{2, 3}\n"
          ]
        }
      ]
    },
    {
      "cell_type": "code",
      "source": [
        "#21\n",
        "person = {\n",
        "    \"name\": \"Anmol\",\n",
        "    \"age\": 30,\n",
        "    \"city\": \"delhi\"\n",
        "}\n",
        "print(person)\n"
      ],
      "metadata": {
        "colab": {
          "base_uri": "https://localhost:8080/"
        },
        "id": "blCFCN8-0TNQ",
        "outputId": "8cffcb18-01ff-49f0-bd33-c447188b3ac8"
      },
      "execution_count": 49,
      "outputs": [
        {
          "output_type": "stream",
          "name": "stdout",
          "text": [
            "{'name': 'Anmol', 'age': 30, 'city': 'delhi'}\n"
          ]
        }
      ]
    },
    {
      "cell_type": "code",
      "source": [
        "#22\n",
        "person = {'name': 'john', 'age': 30}\n",
        "person['country'] = 'usa'\n",
        "print(person)"
      ],
      "metadata": {
        "colab": {
          "base_uri": "https://localhost:8080/"
        },
        "id": "32CPEvxs085n",
        "outputId": "9d4804b0-5d53-4ebb-9399-f0bdf87f963f"
      },
      "execution_count": 50,
      "outputs": [
        {
          "output_type": "stream",
          "name": "stdout",
          "text": [
            "{'name': 'john', 'age': 30, 'country': 'usa'}\n"
          ]
        }
      ]
    },
    {
      "cell_type": "code",
      "source": [
        "#23\n",
        "person = {\"name\": \"alice\", \"age\": 30}\n",
        "name_value = person[\"name\"]\n",
        "print(\"Value associated with 'name':\", name_value)"
      ],
      "metadata": {
        "colab": {
          "base_uri": "https://localhost:8080/"
        },
        "id": "eltxMCQD2-g_",
        "outputId": "c0a42d55-c46f-463c-dc33-470f779f008d"
      },
      "execution_count": 51,
      "outputs": [
        {
          "output_type": "stream",
          "name": "stdout",
          "text": [
            "Value associated with 'name': alice\n"
          ]
        }
      ]
    },
    {
      "cell_type": "code",
      "source": [
        "#24\n",
        "person6 = {\"name\": \"bob\", \"age\": 22, \"city\": \"newyork\"}\n",
        "person6.pop(\"age\")\n",
        "print(\"Dictionary after removing 'age':\", person6)"
      ],
      "metadata": {
        "colab": {
          "base_uri": "https://localhost:8080/"
        },
        "id": "xb_k0oQ93q9b",
        "outputId": "fe547377-c8a7-481e-e172-5e8a9e9f4cbb"
      },
      "execution_count": 52,
      "outputs": [
        {
          "output_type": "stream",
          "name": "stdout",
          "text": [
            "Dictionary after removing 'age': {'name': 'bob', 'city': 'newyork'}\n"
          ]
        }
      ]
    },
    {
      "cell_type": "code",
      "source": [
        "#25\n",
        "person = {\"name\": \"alice\", \"city\": \"paris\"}\n",
        "key_exists = \"city\" in person\n",
        "print(\"Does the key 'city' exist?\", key_exists)"
      ],
      "metadata": {
        "colab": {
          "base_uri": "https://localhost:8080/"
        },
        "id": "uzOjiS4A4TOF",
        "outputId": "e07df71e-eb93-4d2e-87dc-c580f7cbd884"
      },
      "execution_count": 53,
      "outputs": [
        {
          "output_type": "stream",
          "name": "stdout",
          "text": [
            "Does the key 'city' exist? True\n"
          ]
        }
      ]
    },
    {
      "cell_type": "code",
      "source": [
        "#26\n",
        "my_list = [1, 2, 3]\n",
        "my_tuple = ('a', 'b', 'c')\n",
        "my_dict = {'name': 'Alice', 'age': 25}\n",
        "print(my_list)\n",
        "print(my_tuple)\n",
        "print(my_dict)"
      ],
      "metadata": {
        "colab": {
          "base_uri": "https://localhost:8080/"
        },
        "id": "1XaWJaOZ5B0C",
        "outputId": "9ce2003a-be1d-4f05-948d-5e275e384b6a"
      },
      "execution_count": 54,
      "outputs": [
        {
          "output_type": "stream",
          "name": "stdout",
          "text": [
            "[1, 2, 3]\n",
            "('a', 'b', 'c')\n",
            "{'name': 'Alice', 'age': 25}\n"
          ]
        }
      ]
    },
    {
      "cell_type": "code",
      "source": [
        "#27\n",
        "import random\n",
        "random_numbers = [random.randint(1, 100) for _ in range(5)]\n",
        "random_numbers.sort()\n",
        "print(\"Sorted list:\", random_numbers)"
      ],
      "metadata": {
        "colab": {
          "base_uri": "https://localhost:8080/"
        },
        "id": "DS1BP7vD5g24",
        "outputId": "da3c2b69-8715-405d-b2e1-f5eb4a3164ed"
      },
      "execution_count": 55,
      "outputs": [
        {
          "output_type": "stream",
          "name": "stdout",
          "text": [
            "Sorted list: [21, 68, 79, 85, 91]\n"
          ]
        }
      ]
    },
    {
      "cell_type": "code",
      "source": [
        "#28\n",
        "my_list_a = [\"apple\", \"banana\", \"cherry\", \"date\", \"elderberry\"]\n",
        "print(\"Element at index 3:\", my_list_a[3])"
      ],
      "metadata": {
        "colab": {
          "base_uri": "https://localhost:8080/"
        },
        "id": "afeqBuie6VDr",
        "outputId": "cde1c512-1d8c-4133-d7ef-fb3e9422037b"
      },
      "execution_count": 59,
      "outputs": [
        {
          "output_type": "stream",
          "name": "stdout",
          "text": [
            "Element at index 3: date\n"
          ]
        }
      ]
    },
    {
      "cell_type": "code",
      "source": [
        "#29\n",
        "dict1 = {'name': 'Alice', 'age': 25}\n",
        "dict2 = {'city': 'New York', 'country': 'USA'}\n",
        "combined_dict = dict1 | dict2\n",
        "print(\"Combined dictionary:\", combined_dict)"
      ],
      "metadata": {
        "colab": {
          "base_uri": "https://localhost:8080/"
        },
        "id": "cpXy8Ylf7Glw",
        "outputId": "93e68d51-d37f-4188-dd07-979294636da3"
      },
      "execution_count": 60,
      "outputs": [
        {
          "output_type": "stream",
          "name": "stdout",
          "text": [
            "Combined dictionary: {'name': 'Alice', 'age': 25, 'city': 'New York', 'country': 'USA'}\n"
          ]
        }
      ]
    },
    {
      "cell_type": "code",
      "source": [
        "#30\n",
        "my_list5 = [\"apple\", \"banana\", \"apple\", \"cherry\", \"banana\"]\n",
        "my_set = set(my_list5)\n",
        "print(\"Set:\", my_set)"
      ],
      "metadata": {
        "colab": {
          "base_uri": "https://localhost:8080/"
        },
        "id": "j5AebPqU8G_g",
        "outputId": "a7101e15-23db-447f-acae-b43e1ee65975"
      },
      "execution_count": 61,
      "outputs": [
        {
          "output_type": "stream",
          "name": "stdout",
          "text": [
            "Set: {'banana', 'cherry', 'apple'}\n"
          ]
        }
      ]
    },
    {
      "cell_type": "markdown",
      "source": [
        "1.\twhat are the data structure and why are they important?\n",
        "\n",
        "Ans-In python programming data structures are ways of organizing and storing data so that it can be used efficiently. Python has several built-in data structures, including lists, tuples, dictionaries, and sets.\n"
      ],
      "metadata": {
        "id": "etTHZ0CX8kWX"
      }
    },
    {
      "cell_type": "code",
      "source": [],
      "metadata": {
        "id": "r5qbZDPw8X4F"
      },
      "execution_count": null,
      "outputs": []
    },
    {
      "cell_type": "markdown",
      "source": [
        "2.\tExplain the difference between mutable and immutable data types with example.\n",
        "\n",
        "Ans – In python mutable data types are those whose values can be changed after they are created, while immutable data types are those whose values cannot be changed after they are created.\n",
        "Ex- For example if there is a list I have created\n",
        "students = [\"Riddhi\",\"Narendra\",\"Rownak\",\"Yamini\",\"Umesh\"] and  I am adding another student into the list that is called mutable on the other hand if I have assigned a value to a variable like My_name = “ANMOL” and I try to change the first character of this string it will cause error.\n",
        "\n"
      ],
      "metadata": {
        "id": "xeoueKYA8pZ0"
      }
    },
    {
      "cell_type": "markdown",
      "source": [
        "3.\twhat are the main differences between lists and tuples in python?\n",
        "\n",
        "Ans- Lists and tuples are both fundamental sequence types in Python, serving as containers for ordered collections of items. However, there are many key differences in mutability, syntax, and typical use cases-\n",
        "Lists are mutable and tuples are not mutable, lists are defined with square brackets and tuples are defined using parentheses.\n"
      ],
      "metadata": {
        "id": "rgR48RoK8xm_"
      }
    },
    {
      "cell_type": "markdown",
      "source": [],
      "metadata": {
        "id": "VfllzJdn9An2"
      }
    },
    {
      "cell_type": "markdown",
      "source": [
        "5.\twhy might you use a set instead of a list in python?\n",
        "\n",
        "Ans- Sets and lists serve different purposes in Python, making sets more suitable in some scenarios like sets don not allow duplicates so if you want to to maintain a unique collection of item so the sets are ideal and also checking for the available item in the set easier and faster than list using only “in” operator\n",
        "Also sets are unordered so if order of elements is not important than sets are more efficient.\n"
      ],
      "metadata": {
        "id": "naxTz2X_9B_4"
      }
    },
    {
      "cell_type": "markdown",
      "source": [
        "6.\twhat is a string in python and how is it different from a list?\n",
        "\n",
        "Ans- A string is a sequence of characters between single or double quotes and A list is a sequence of items, where each item could be anything (an integer, a float, a string.\n"
      ],
      "metadata": {
        "id": "h3yFyXcJ9G1w"
      }
    },
    {
      "cell_type": "markdown",
      "source": [
        "4.\tdescribe how dictionaries store data?\n",
        "\n",
        "Ans- Dictionaries are unordered collections of data and are represented with curly brackets { } .dictionaries are mutable. With dictionaries, data is stored in a key:value format.\n",
        "Ex- d1 = {\"stud_id\":\"12345\",\"Name\":\"Kishore\",\"email\":\"kishore@abc.com\", \"stud_id\":\"12323\"}\n"
      ],
      "metadata": {
        "id": "0BRPDkkD8uHG"
      }
    },
    {
      "cell_type": "code",
      "source": [],
      "metadata": {
        "id": "F40hfAbp9KDK"
      },
      "execution_count": null,
      "outputs": []
    },
    {
      "cell_type": "markdown",
      "source": [
        "7.\thow do tuples ensure data integrity in python?\n",
        "\n",
        "Ans- Tuples in Python ensure data integrity through their immutability. Once a tuple is created, its elements cannot be modified, added, or removed. This characteristic guarantees that the data stored within a tuple remains constant throughout its lifespan.\n"
      ],
      "metadata": {
        "id": "GVBuwYS39LJN"
      }
    },
    {
      "cell_type": "markdown",
      "source": [],
      "metadata": {
        "id": "3yo9kq_J9Kw7"
      }
    },
    {
      "cell_type": "markdown",
      "source": [
        "8.\twhat is a hash table and how does it relate to dictionaries in python ?\n",
        "Ans- A hash table is a data structure that stores key-value pairs, using a hash function to compute an index for each key, which determines the position (or \"bucket\") in the table where the value is stored and dictionaries are implemented using hash tables. When a key-value pair is added to a dictionary, Python calculates the hash value of the key and uses it to determine the index in the underlying hash table where the value will be stored.\n"
      ],
      "metadata": {
        "id": "dfwtN7Vb9TVW"
      }
    },
    {
      "cell_type": "markdown",
      "source": [],
      "metadata": {
        "id": "vSERDlJH9PuK"
      }
    },
    {
      "cell_type": "markdown",
      "source": [
        "9.\tcan list contain different data types in python ?\n",
        "Ans- In Python lists can contain elements of different data types. This is one of the features that makes Python lists very flexible. A single list can hold integers, strings, floats, booleans, and even other lists or data structures like dictionaries and tuples.\n"
      ],
      "metadata": {
        "id": "mtZOpFbg9V33"
      }
    },
    {
      "cell_type": "markdown",
      "source": [
        "10.\texplain why strings are immutable in python ?\n",
        "ans- Strings in python are immutable because of design choices that prioritize efficiency. When a string is created, Python allocates memory for it. If strings were mutable, modifying a string might require reallocating memory, which is a time-consuming operation and also dictionaries in Python require their keys to be hashable, and hashable objects must be immutable.\n"
      ],
      "metadata": {
        "id": "dfb1bRUz9Xug"
      }
    },
    {
      "cell_type": "markdown",
      "source": [],
      "metadata": {
        "id": "53cMY-8D9aNa"
      }
    },
    {
      "cell_type": "markdown",
      "source": [
        "11.\twhat advantages do dictionaries offer over lists for certain tasks?\n",
        "Ans-The data collected is stored as key-value pairs in the dictionary, a standard Python data structure. The word \"dictionary\" is enclosed in curly brackets (), spaced by commas and also dictionaries are ordered sets dictionaries can be accessed by the index number of the element elements can be removed and inserted into dictionaries it’s quicker and easier to find a specific element in a dictionary\n"
      ],
      "metadata": {
        "id": "35waw73f9bk4"
      }
    },
    {
      "cell_type": "markdown",
      "source": [
        "12.\tdescribe a scenario where using a tuple would be preferable over a list ?\n",
        "Ans- Once a tuple is created, its elements cannot be modified, added, or removed. This characteristic guarantees that the data stored within a tuple remains constant throughout its lifespan so if the data stored requires this so using tuple is preferable.\n"
      ],
      "metadata": {
        "id": "a-PLzlBH9dGw"
      }
    },
    {
      "cell_type": "markdown",
      "source": [
        "13.\thow do sets handle duplicate values in python?\n",
        "Ans- Sets in Python are designed to store only unique elements. When attempting to add a duplicate value to a set, Python automatically ignores it, ensuring that the set maintains its uniqueness property.\n",
        "For Ex- s1 = {\"kishore\",\"Raghav\",\"Parikh\",\"Anjum\",\"kishore\"} in the second time Kishore will be ignored\n"
      ],
      "metadata": {
        "id": "R6Cgbiog9gb5"
      }
    },
    {
      "cell_type": "markdown",
      "source": [
        "14.\thow does the in keyword work differently for lists and dictionaries?\n",
        "Ans- For list the ‘in’ keyword checks whether a value exists as an element in the list and for dictionary the ‘in’ keyword checks whether a key exists in the dictionary not the value.\n"
      ],
      "metadata": {
        "id": "GpCfZAO79h34"
      }
    },
    {
      "cell_type": "markdown",
      "source": [
        "15.\tcan you modify the elements of a tuple explain why or why not?\n",
        "Ans Although you cannot directly modify the elements of a tuple in Python after it's been created. Tuples are immutable, meaning their contents cannot be changed once they are defined but still changes need to be made than convert that tuple into list and and make the necessary changes and again change it to a tuple.\n"
      ],
      "metadata": {
        "id": "Ooz7ZQxw9k4e"
      }
    },
    {
      "cell_type": "markdown",
      "source": [
        "16.\twhat is a nested dictionary and give an example of its use case ?\n",
        "Ans- A nested dictionary in Python is a dictionary where the values are themselves dictionaries. This allows for the creation of a hierarchical structure where data can be organized into multiple levels.\n",
        "students = {\"12345\":{\"name\":\"Kishore\",\"email\":\"kishore@abc.com\",\"marks\":{\"Maths\":80,\"Science\":90}},\"12346\":{\"name\":\"Umesh\",\"email\":\"umesh@abc.com\",\"marks\":{\"Maths\":95,\"Science\":85}}}\n"
      ],
      "metadata": {
        "id": "Cu8y3KJu9oDl"
      }
    },
    {
      "cell_type": "markdown",
      "source": [
        "17.\tdescribe the time complexity of accessing elements in a dictionary?\n",
        "Ans- Accessing elements in a Python dictionary (using a key like my dict[key]) is very efficient due to its underlying implementation using a hash table. Accessing an element in a dictionary using its key typically has a time complexity of O(1) on average, meaning it takes constant time, regardless of the dictionary's size.\n"
      ],
      "metadata": {
        "id": "uyd9-lht9rCO"
      }
    },
    {
      "cell_type": "markdown",
      "source": [
        "18.\tin what situations are lists preferred over dictionaries?\n",
        "Ans- lists are preferred when given order of data is required and also when index based access is required lists are preferred . In some situation it is required to have duplicate value which dictionary does not allow to have.\n"
      ],
      "metadata": {
        "id": "M5trB5k99uTl"
      }
    },
    {
      "cell_type": "markdown",
      "source": [
        "19.\twhy are dictionaries considered unordered and how does that affect data retrieval?\n",
        "Ans- Dictionary are un ordered means elements are not stored or retrieved based on the order they were added Instead, elements are stored according to the hash value of the key, which determines their internal position in a hash table. you cannot access items by position, means retrieval is only possible through keys, not index or order.\n"
      ],
      "metadata": {
        "id": "jVHYhHlX9wcv"
      }
    },
    {
      "cell_type": "markdown",
      "source": [
        "20.\tExplain the difference between a list and a dictionary in terms of data retrieval?\n",
        "Ans- In Python, lists and dictionaries are both used to store collections of data, but they differ fundamentally in how data is accessed (retrieved). These differences are rooted in their structure and purpose. A list retrieves items based on their numeric position in a sequence a dictionary retrieves items using unique keys associated with each value.\n",
        "Ex-  for list- to List[position] and in dictionary- Dictionary_name[‘name’]\n"
      ],
      "metadata": {
        "id": "nw9o4g2Q90vV"
      }
    }
  ]
}